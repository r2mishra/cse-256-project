{
 "cells": [
  {
   "cell_type": "code",
   "execution_count": 1,
   "metadata": {},
   "outputs": [
    {
     "data": {
      "text/html": [
       "<div>\n",
       "<style scoped>\n",
       "    .dataframe tbody tr th:only-of-type {\n",
       "        vertical-align: middle;\n",
       "    }\n",
       "\n",
       "    .dataframe tbody tr th {\n",
       "        vertical-align: top;\n",
       "    }\n",
       "\n",
       "    .dataframe thead th {\n",
       "        text-align: right;\n",
       "    }\n",
       "</style>\n",
       "<table border=\"1\" class=\"dataframe\">\n",
       "  <thead>\n",
       "    <tr style=\"text-align: right;\">\n",
       "      <th></th>\n",
       "      <th>id</th>\n",
       "      <th>title</th>\n",
       "      <th>selftext</th>\n",
       "      <th>num_comments</th>\n",
       "      <th>score</th>\n",
       "      <th>created_utc</th>\n",
       "      <th>url</th>\n",
       "      <th>top_comment</th>\n",
       "      <th>chatgpt-3.5-turbo</th>\n",
       "      <th>text</th>\n",
       "    </tr>\n",
       "  </thead>\n",
       "  <tbody>\n",
       "    <tr>\n",
       "      <th>0</th>\n",
       "      <td>4a9ae5a3-7055-4f56-b1c6-1e58c0ec7822</td>\n",
       "      <td>How do you cook clams and mussels for pasta?</td>\n",
       "      <td>I've had clams and mussels before, but always ...</td>\n",
       "      <td>1</td>\n",
       "      <td>1</td>\n",
       "      <td>1679325700</td>\n",
       "      <td>https://www.reddit.com/r/AskCulinary/comments/...</td>\n",
       "      <td>Steam them directly in the sauce! Between the ...</td>\n",
       "      <td>To cook clams and mussels for pasta, add the s...</td>\n",
       "      <td>I've had clams and mussels before, but always ...</td>\n",
       "    </tr>\n",
       "    <tr>\n",
       "      <th>1</th>\n",
       "      <td>6a08090a-e302-4a8d-8811-6fb8a5faf3b4</td>\n",
       "      <td>how to elevate chicken soup from good to amazing</td>\n",
       "      <td>What elements will take a basic chicken soup t...</td>\n",
       "      <td>63</td>\n",
       "      <td>104</td>\n",
       "      <td>1677656738</td>\n",
       "      <td>https://www.reddit.com/r/AskCulinary/comments/...</td>\n",
       "      <td>Usually by the time you've extracted a fantast...</td>\n",
       "      <td>Try adding fresh herbs like thyme or rosemary ...</td>\n",
       "      <td>What elements will take a basic chicken soup t...</td>\n",
       "    </tr>\n",
       "    <tr>\n",
       "      <th>2</th>\n",
       "      <td>ac2f6b51-abcc-48af-93ec-d6c5031da979</td>\n",
       "      <td>Menu critique and dessert suggestions</td>\n",
       "      <td>I am having someone very special to me come ov...</td>\n",
       "      <td>9</td>\n",
       "      <td>9</td>\n",
       "      <td>1677673600</td>\n",
       "      <td>https://www.reddit.com/r/AskCulinary/comments/...</td>\n",
       "      <td>So how to stay out of the kitchen and enjoy yo...</td>\n",
       "      <td>For a dessert suggestion, you could try a simp...</td>\n",
       "      <td>I am having someone very special to me come ov...</td>\n",
       "    </tr>\n",
       "    <tr>\n",
       "      <th>3</th>\n",
       "      <td>c7e23407-58e7-4750-9eea-6a58e991dcd4</td>\n",
       "      <td>Any good resources/methods to learn how to coo...</td>\n",
       "      <td>I’m trying to expand my knowledge of how to co...</td>\n",
       "      <td>5</td>\n",
       "      <td>8</td>\n",
       "      <td>1677635431</td>\n",
       "      <td>https://www.reddit.com/r/AskCulinary/comments/...</td>\n",
       "      <td>The Flavor Bible is a good start.</td>\n",
       "      <td>\"The Flavor Bible\" is a great resource that ca...</td>\n",
       "      <td>I’m trying to expand my knowledge of how to co...</td>\n",
       "    </tr>\n",
       "    <tr>\n",
       "      <th>4</th>\n",
       "      <td>2212c1be-752d-4dbb-b588-b27501c40521</td>\n",
       "      <td>Oil to use to condition my wood knife handles?</td>\n",
       "      <td>Should I get some butcher block oil? I was thi...</td>\n",
       "      <td>4</td>\n",
       "      <td>6</td>\n",
       "      <td>1677651186</td>\n",
       "      <td>https://www.reddit.com/r/AskCulinary/comments/...</td>\n",
       "      <td>Butcher block oil is basically mineral oil and...</td>\n",
       "      <td>Mineral oil is a good choice for conditioning ...</td>\n",
       "      <td>Should I get some butcher block oil? I was thi...</td>\n",
       "    </tr>\n",
       "  </tbody>\n",
       "</table>\n",
       "</div>"
      ],
      "text/plain": [
       "                                     id   \n",
       "0  4a9ae5a3-7055-4f56-b1c6-1e58c0ec7822  \\\n",
       "1  6a08090a-e302-4a8d-8811-6fb8a5faf3b4   \n",
       "2  ac2f6b51-abcc-48af-93ec-d6c5031da979   \n",
       "3  c7e23407-58e7-4750-9eea-6a58e991dcd4   \n",
       "4  2212c1be-752d-4dbb-b588-b27501c40521   \n",
       "\n",
       "                                               title   \n",
       "0       How do you cook clams and mussels for pasta?  \\\n",
       "1   how to elevate chicken soup from good to amazing   \n",
       "2              Menu critique and dessert suggestions   \n",
       "3  Any good resources/methods to learn how to coo...   \n",
       "4     Oil to use to condition my wood knife handles?   \n",
       "\n",
       "                                            selftext  num_comments  score   \n",
       "0  I've had clams and mussels before, but always ...             1      1  \\\n",
       "1  What elements will take a basic chicken soup t...            63    104   \n",
       "2  I am having someone very special to me come ov...             9      9   \n",
       "3  I’m trying to expand my knowledge of how to co...             5      8   \n",
       "4  Should I get some butcher block oil? I was thi...             4      6   \n",
       "\n",
       "   created_utc                                                url   \n",
       "0   1679325700  https://www.reddit.com/r/AskCulinary/comments/...  \\\n",
       "1   1677656738  https://www.reddit.com/r/AskCulinary/comments/...   \n",
       "2   1677673600  https://www.reddit.com/r/AskCulinary/comments/...   \n",
       "3   1677635431  https://www.reddit.com/r/AskCulinary/comments/...   \n",
       "4   1677651186  https://www.reddit.com/r/AskCulinary/comments/...   \n",
       "\n",
       "                                         top_comment   \n",
       "0  Steam them directly in the sauce! Between the ...  \\\n",
       "1  Usually by the time you've extracted a fantast...   \n",
       "2  So how to stay out of the kitchen and enjoy yo...   \n",
       "3                  The Flavor Bible is a good start.   \n",
       "4  Butcher block oil is basically mineral oil and...   \n",
       "\n",
       "                                   chatgpt-3.5-turbo   \n",
       "0  To cook clams and mussels for pasta, add the s...  \\\n",
       "1  Try adding fresh herbs like thyme or rosemary ...   \n",
       "2  For a dessert suggestion, you could try a simp...   \n",
       "3  \"The Flavor Bible\" is a great resource that ca...   \n",
       "4  Mineral oil is a good choice for conditioning ...   \n",
       "\n",
       "                                                text  \n",
       "0  I've had clams and mussels before, but always ...  \n",
       "1  What elements will take a basic chicken soup t...  \n",
       "2  I am having someone very special to me come ov...  \n",
       "3  I’m trying to expand my knowledge of how to co...  \n",
       "4  Should I get some butcher block oil? I was thi...  "
      ]
     },
     "execution_count": 1,
     "metadata": {},
     "output_type": "execute_result"
    }
   ],
   "source": [
    "import pandas as pd\n",
    "\n",
    "df = pd.read_csv('data_AskCulinary.csv')\n",
    "df.head()"
   ]
  },
  {
   "cell_type": "code",
   "execution_count": 3,
   "metadata": {},
   "outputs": [
    {
     "name": "stdout",
     "output_type": "stream",
     "text": [
      "Empty Count - 151\n"
     ]
    }
   ],
   "source": [
    "print(f\"Empty Count - {len(df[df['chatgpt-3.5-turbo'] == '[EMPTY]'])}\")"
   ]
  },
  {
   "cell_type": "code",
   "execution_count": 4,
   "metadata": {},
   "outputs": [
    {
     "name": "stdout",
     "output_type": "stream",
     "text": [
      "Average Human Response Length - 54.363973619126135\n",
      "Average GPT-3 Response Length - 62.6760098928277\n"
     ]
    }
   ],
   "source": [
    "# Average Human Response Length\n",
    "print(f\"Average Human Response Length - {df['top_comment'].map(lambda x: len(x.split())).mean()}\")\n",
    "# Average GPT-3 Response Length\n",
    "print(f\"Average GPT-3 Response Length - {df['chatgpt-3.5-turbo'].map(lambda x: len(x.split())).mean()}\")"
   ]
  },
  {
   "cell_type": "code",
   "execution_count": 6,
   "metadata": {},
   "outputs": [
    {
     "name": "stdout",
     "output_type": "stream",
     "text": [
      "Vocabulary size of human responses - 26114\n",
      "Vocabulary size of GPT-3 responses - 17325\n"
     ]
    }
   ],
   "source": [
    "# Vocabulary size of human responses\n",
    "print(f\"Vocabulary size of human responses - {len(set(' '.join(df['top_comment'].tolist()).split()))}\")\n",
    "# Vocabulary size of GPT-3 responses\n",
    "print(f\"Vocabulary size of GPT-3 responses - {len(set(' '.join(df['chatgpt-3.5-turbo'].tolist()).split()))}\")"
   ]
  },
  {
   "cell_type": "code",
   "execution_count": null,
   "metadata": {},
   "outputs": [],
   "source": []
  }
 ],
 "metadata": {
  "kernelspec": {
   "display_name": "256",
   "language": "python",
   "name": "python3"
  },
  "language_info": {
   "codemirror_mode": {
    "name": "ipython",
    "version": 3
   },
   "file_extension": ".py",
   "mimetype": "text/x-python",
   "name": "python",
   "nbconvert_exporter": "python",
   "pygments_lexer": "ipython3",
   "version": "3.11.3"
  },
  "orig_nbformat": 4
 },
 "nbformat": 4,
 "nbformat_minor": 2
}
